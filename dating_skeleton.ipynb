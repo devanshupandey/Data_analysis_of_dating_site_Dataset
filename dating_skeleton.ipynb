{
 "cells": [
  {
   "cell_type": "code",
   "execution_count": 183,
   "id": "handed-pepper",
   "metadata": {},
   "outputs": [],
   "source": [
    "import os\n",
    "import pandas as pd\n",
    "import matplotlib.pyplot as plt\n",
    "import numpy as np"
   ]
  },
  {
   "cell_type": "code",
   "execution_count": 55,
   "id": "immediate-alloy",
   "metadata": {},
   "outputs": [],
   "source": [
    "data = pd.read_csv('profiles.csv')"
   ]
  },
  {
   "cell_type": "code",
   "execution_count": 58,
   "id": "golden-mayor",
   "metadata": {},
   "outputs": [],
   "source": [
    "os.makedirs('dataset', exist_ok=True)\n",
    "data.to_feather('dataset/profile-raw')"
   ]
  },
  {
   "cell_type": "code",
   "execution_count": 128,
   "id": "wanted-norman",
   "metadata": {},
   "outputs": [],
   "source": [
    "data = pd.read_feather('dataset/profile-raw')"
   ]
  },
  {
   "cell_type": "code",
   "execution_count": 129,
   "id": "racial-smoke",
   "metadata": {},
   "outputs": [
    {
     "data": {
      "text/html": [
       "<div>\n",
       "<style scoped>\n",
       "    .dataframe tbody tr th:only-of-type {\n",
       "        vertical-align: middle;\n",
       "    }\n",
       "\n",
       "    .dataframe tbody tr th {\n",
       "        vertical-align: top;\n",
       "    }\n",
       "\n",
       "    .dataframe thead th {\n",
       "        text-align: right;\n",
       "    }\n",
       "</style>\n",
       "<table border=\"1\" class=\"dataframe\">\n",
       "  <thead>\n",
       "    <tr style=\"text-align: right;\">\n",
       "      <th></th>\n",
       "      <th>age</th>\n",
       "      <th>body_type</th>\n",
       "      <th>diet</th>\n",
       "      <th>drinks</th>\n",
       "      <th>drugs</th>\n",
       "      <th>education</th>\n",
       "      <th>essay0</th>\n",
       "      <th>essay1</th>\n",
       "      <th>essay2</th>\n",
       "      <th>essay3</th>\n",
       "      <th>...</th>\n",
       "      <th>location</th>\n",
       "      <th>offspring</th>\n",
       "      <th>orientation</th>\n",
       "      <th>pets</th>\n",
       "      <th>religion</th>\n",
       "      <th>sex</th>\n",
       "      <th>sign</th>\n",
       "      <th>smokes</th>\n",
       "      <th>speaks</th>\n",
       "      <th>status</th>\n",
       "    </tr>\n",
       "  </thead>\n",
       "  <tbody>\n",
       "    <tr>\n",
       "      <th>0</th>\n",
       "      <td>22</td>\n",
       "      <td>a little extra</td>\n",
       "      <td>strictly anything</td>\n",
       "      <td>socially</td>\n",
       "      <td>never</td>\n",
       "      <td>working on college/university</td>\n",
       "      <td>about me:&lt;br /&gt;\\n&lt;br /&gt;\\ni would love to think...</td>\n",
       "      <td>currently working as an international agent fo...</td>\n",
       "      <td>making people laugh.&lt;br /&gt;\\nranting about a go...</td>\n",
       "      <td>the way i look. i am a six foot half asian, ha...</td>\n",
       "      <td>...</td>\n",
       "      <td>south san francisco, california</td>\n",
       "      <td>doesn&amp;rsquo;t have kids, but might want them</td>\n",
       "      <td>straight</td>\n",
       "      <td>likes dogs and likes cats</td>\n",
       "      <td>agnosticism and very serious about it</td>\n",
       "      <td>m</td>\n",
       "      <td>gemini</td>\n",
       "      <td>sometimes</td>\n",
       "      <td>english</td>\n",
       "      <td>single</td>\n",
       "    </tr>\n",
       "    <tr>\n",
       "      <th>1</th>\n",
       "      <td>35</td>\n",
       "      <td>average</td>\n",
       "      <td>mostly other</td>\n",
       "      <td>often</td>\n",
       "      <td>sometimes</td>\n",
       "      <td>working on space camp</td>\n",
       "      <td>i am a chef: this is what that means.&lt;br /&gt;\\n1...</td>\n",
       "      <td>dedicating everyday to being an unbelievable b...</td>\n",
       "      <td>being silly. having ridiculous amonts of fun w...</td>\n",
       "      <td>None</td>\n",
       "      <td>...</td>\n",
       "      <td>oakland, california</td>\n",
       "      <td>doesn&amp;rsquo;t have kids, but might want them</td>\n",
       "      <td>straight</td>\n",
       "      <td>likes dogs and likes cats</td>\n",
       "      <td>agnosticism but not too serious about it</td>\n",
       "      <td>m</td>\n",
       "      <td>cancer</td>\n",
       "      <td>no</td>\n",
       "      <td>english (fluently), spanish (poorly), french (...</td>\n",
       "      <td>single</td>\n",
       "    </tr>\n",
       "  </tbody>\n",
       "</table>\n",
       "<p>2 rows × 31 columns</p>\n",
       "</div>"
      ],
      "text/plain": [
       "   age       body_type               diet    drinks      drugs  \\\n",
       "0   22  a little extra  strictly anything  socially      never   \n",
       "1   35         average       mostly other     often  sometimes   \n",
       "\n",
       "                       education  \\\n",
       "0  working on college/university   \n",
       "1          working on space camp   \n",
       "\n",
       "                                              essay0  \\\n",
       "0  about me:<br />\\n<br />\\ni would love to think...   \n",
       "1  i am a chef: this is what that means.<br />\\n1...   \n",
       "\n",
       "                                              essay1  \\\n",
       "0  currently working as an international agent fo...   \n",
       "1  dedicating everyday to being an unbelievable b...   \n",
       "\n",
       "                                              essay2  \\\n",
       "0  making people laugh.<br />\\nranting about a go...   \n",
       "1  being silly. having ridiculous amonts of fun w...   \n",
       "\n",
       "                                              essay3  ...  \\\n",
       "0  the way i look. i am a six foot half asian, ha...  ...   \n",
       "1                                               None  ...   \n",
       "\n",
       "                          location  \\\n",
       "0  south san francisco, california   \n",
       "1              oakland, california   \n",
       "\n",
       "                                      offspring orientation  \\\n",
       "0  doesn&rsquo;t have kids, but might want them    straight   \n",
       "1  doesn&rsquo;t have kids, but might want them    straight   \n",
       "\n",
       "                        pets                                  religion sex  \\\n",
       "0  likes dogs and likes cats     agnosticism and very serious about it   m   \n",
       "1  likes dogs and likes cats  agnosticism but not too serious about it   m   \n",
       "\n",
       "     sign     smokes                                             speaks  \\\n",
       "0  gemini  sometimes                                            english   \n",
       "1  cancer         no  english (fluently), spanish (poorly), french (...   \n",
       "\n",
       "   status  \n",
       "0  single  \n",
       "1  single  \n",
       "\n",
       "[2 rows x 31 columns]"
      ]
     },
     "execution_count": 129,
     "metadata": {},
     "output_type": "execute_result"
    }
   ],
   "source": [
    "data.head(2)"
   ]
  },
  {
   "cell_type": "code",
   "execution_count": 130,
   "id": "likely-handle",
   "metadata": {},
   "outputs": [
    {
     "data": {
      "text/plain": [
       "59946"
      ]
     },
     "execution_count": 130,
     "metadata": {},
     "output_type": "execute_result"
    }
   ],
   "source": [
    "len(data)"
   ]
  },
  {
   "cell_type": "code",
   "execution_count": 131,
   "id": "varied-graph",
   "metadata": {},
   "outputs": [
    {
     "data": {
      "text/html": [
       "<div>\n",
       "<style scoped>\n",
       "    .dataframe tbody tr th:only-of-type {\n",
       "        vertical-align: middle;\n",
       "    }\n",
       "\n",
       "    .dataframe tbody tr th {\n",
       "        vertical-align: top;\n",
       "    }\n",
       "\n",
       "    .dataframe thead th {\n",
       "        text-align: right;\n",
       "    }\n",
       "</style>\n",
       "<table border=\"1\" class=\"dataframe\">\n",
       "  <thead>\n",
       "    <tr style=\"text-align: right;\">\n",
       "      <th></th>\n",
       "      <th>age</th>\n",
       "      <th>height</th>\n",
       "      <th>income</th>\n",
       "    </tr>\n",
       "  </thead>\n",
       "  <tbody>\n",
       "    <tr>\n",
       "      <th>count</th>\n",
       "      <td>5994600.0%</td>\n",
       "      <td>5994300.0%</td>\n",
       "      <td>5994600.0%</td>\n",
       "    </tr>\n",
       "    <tr>\n",
       "      <th>mean</th>\n",
       "      <td>3234.0%</td>\n",
       "      <td>6829.5%</td>\n",
       "      <td>2003322.3%</td>\n",
       "    </tr>\n",
       "    <tr>\n",
       "      <th>std</th>\n",
       "      <td>945.3%</td>\n",
       "      <td>399.5%</td>\n",
       "      <td>9734619.2%</td>\n",
       "    </tr>\n",
       "    <tr>\n",
       "      <th>min</th>\n",
       "      <td>1800.0%</td>\n",
       "      <td>100.0%</td>\n",
       "      <td>-100.0%</td>\n",
       "    </tr>\n",
       "    <tr>\n",
       "      <th>25%</th>\n",
       "      <td>2600.0%</td>\n",
       "      <td>6600.0%</td>\n",
       "      <td>-100.0%</td>\n",
       "    </tr>\n",
       "    <tr>\n",
       "      <th>50%</th>\n",
       "      <td>3000.0%</td>\n",
       "      <td>6800.0%</td>\n",
       "      <td>-100.0%</td>\n",
       "    </tr>\n",
       "    <tr>\n",
       "      <th>75%</th>\n",
       "      <td>3700.0%</td>\n",
       "      <td>7100.0%</td>\n",
       "      <td>-100.0%</td>\n",
       "    </tr>\n",
       "    <tr>\n",
       "      <th>max</th>\n",
       "      <td>11000.0%</td>\n",
       "      <td>9500.0%</td>\n",
       "      <td>100000000.0%</td>\n",
       "    </tr>\n",
       "  </tbody>\n",
       "</table>\n",
       "</div>"
      ],
      "text/plain": [
       "             age     height       income\n",
       "count 5994600.0% 5994300.0%   5994600.0%\n",
       "mean     3234.0%    6829.5%   2003322.3%\n",
       "std       945.3%     399.5%   9734619.2%\n",
       "min      1800.0%     100.0%      -100.0%\n",
       "25%      2600.0%    6600.0%      -100.0%\n",
       "50%      3000.0%    6800.0%      -100.0%\n",
       "75%      3700.0%    7100.0%      -100.0%\n",
       "max     11000.0%    9500.0% 100000000.0%"
      ]
     },
     "execution_count": 131,
     "metadata": {},
     "output_type": "execute_result"
    }
   ],
   "source": [
    "data.describe()"
   ]
  },
  {
   "cell_type": "code",
   "execution_count": 132,
   "id": "physical-knight",
   "metadata": {
    "scrolled": true
   },
   "outputs": [
    {
     "data": {
      "text/plain": [
       "[0.0,\n",
       " 0.0,\n",
       " 0.0,\n",
       " 0.0,\n",
       " 0.0,\n",
       " 0.0,\n",
       " 0.0,\n",
       " 5.0045040536482834e-05,\n",
       " 0.0008340840089413805,\n",
       " 0.04979481533380042,\n",
       " 0.08834617822707103,\n",
       " 0.09154906082140593,\n",
       " 0.09194942114569779,\n",
       " 0.09475194341574084,\n",
       " 0.1105661762252694,\n",
       " 0.1263136823140827,\n",
       " 0.13675641410602876,\n",
       " 0.1607780335635405,\n",
       " 0.17577486404430653,\n",
       " 0.18099622994027958,\n",
       " 0.18443265605711806,\n",
       " 0.19143896173222566,\n",
       " 0.2077035999065826,\n",
       " 0.21023921529376438,\n",
       " 0.22972341774263505,\n",
       " 0.23487805691789276,\n",
       " 0.32070530143796083,\n",
       " 0.3323157508424249,\n",
       " 0.33740366329696725,\n",
       " 0.4069495879624996,\n",
       " 0.5932172288392887]"
      ]
     },
     "execution_count": 132,
     "metadata": {},
     "output_type": "execute_result"
    }
   ],
   "source": [
    "sorted(data.isnull().sum()/len(data))"
   ]
  },
  {
   "cell_type": "code",
   "execution_count": 133,
   "id": "varying-beverage",
   "metadata": {},
   "outputs": [
    {
     "data": {
      "text/plain": [
       "6"
      ]
     },
     "execution_count": 133,
     "metadata": {},
     "output_type": "execute_result"
    }
   ],
   "source": [
    "data.drinks.nunique()"
   ]
  },
  {
   "cell_type": "code",
   "execution_count": 134,
   "id": "compound-spine",
   "metadata": {
    "scrolled": true
   },
   "outputs": [
    {
     "data": {
      "text/plain": [
       "socially       41780\n",
       "rarely          5957\n",
       "often           5164\n",
       "not at all      3267\n",
       "very often       471\n",
       "desperately      322\n",
       "Name: drinks, dtype: int64"
      ]
     },
     "execution_count": 134,
     "metadata": {},
     "output_type": "execute_result"
    }
   ],
   "source": [
    "data.drinks.value_counts()"
   ]
  },
  {
   "cell_type": "code",
   "execution_count": 135,
   "id": "drawn-particular",
   "metadata": {},
   "outputs": [],
   "source": [
    "copy_data = data.iloc[:,0:]"
   ]
  },
  {
   "cell_type": "code",
   "execution_count": 136,
   "id": "hydraulic-distance",
   "metadata": {},
   "outputs": [
    {
     "data": {
      "text/html": [
       "<div>\n",
       "<style scoped>\n",
       "    .dataframe tbody tr th:only-of-type {\n",
       "        vertical-align: middle;\n",
       "    }\n",
       "\n",
       "    .dataframe tbody tr th {\n",
       "        vertical-align: top;\n",
       "    }\n",
       "\n",
       "    .dataframe thead th {\n",
       "        text-align: right;\n",
       "    }\n",
       "</style>\n",
       "<table border=\"1\" class=\"dataframe\">\n",
       "  <thead>\n",
       "    <tr style=\"text-align: right;\">\n",
       "      <th></th>\n",
       "      <th>Count</th>\n",
       "      <th>Percent</th>\n",
       "    </tr>\n",
       "  </thead>\n",
       "  <tbody>\n",
       "    <tr>\n",
       "      <th>offspring</th>\n",
       "      <td>35561</td>\n",
       "      <td>59.3%</td>\n",
       "    </tr>\n",
       "    <tr>\n",
       "      <th>diet</th>\n",
       "      <td>24395</td>\n",
       "      <td>40.7%</td>\n",
       "    </tr>\n",
       "    <tr>\n",
       "      <th>religion</th>\n",
       "      <td>20226</td>\n",
       "      <td>33.7%</td>\n",
       "    </tr>\n",
       "    <tr>\n",
       "      <th>pets</th>\n",
       "      <td>19921</td>\n",
       "      <td>33.2%</td>\n",
       "    </tr>\n",
       "    <tr>\n",
       "      <th>essay8</th>\n",
       "      <td>19225</td>\n",
       "      <td>32.1%</td>\n",
       "    </tr>\n",
       "    <tr>\n",
       "      <th>drugs</th>\n",
       "      <td>14080</td>\n",
       "      <td>23.5%</td>\n",
       "    </tr>\n",
       "    <tr>\n",
       "      <th>essay6</th>\n",
       "      <td>13771</td>\n",
       "      <td>23.0%</td>\n",
       "    </tr>\n",
       "    <tr>\n",
       "      <th>essay9</th>\n",
       "      <td>12603</td>\n",
       "      <td>21.0%</td>\n",
       "    </tr>\n",
       "    <tr>\n",
       "      <th>essay7</th>\n",
       "      <td>12451</td>\n",
       "      <td>20.8%</td>\n",
       "    </tr>\n",
       "    <tr>\n",
       "      <th>essay3</th>\n",
       "      <td>11476</td>\n",
       "      <td>19.1%</td>\n",
       "    </tr>\n",
       "    <tr>\n",
       "      <th>sign</th>\n",
       "      <td>11056</td>\n",
       "      <td>18.4%</td>\n",
       "    </tr>\n",
       "    <tr>\n",
       "      <th>essay5</th>\n",
       "      <td>10850</td>\n",
       "      <td>18.1%</td>\n",
       "    </tr>\n",
       "    <tr>\n",
       "      <th>essay4</th>\n",
       "      <td>10537</td>\n",
       "      <td>17.6%</td>\n",
       "    </tr>\n",
       "    <tr>\n",
       "      <th>essay2</th>\n",
       "      <td>9638</td>\n",
       "      <td>16.1%</td>\n",
       "    </tr>\n",
       "    <tr>\n",
       "      <th>job</th>\n",
       "      <td>8198</td>\n",
       "      <td>13.7%</td>\n",
       "    </tr>\n",
       "    <tr>\n",
       "      <th>essay1</th>\n",
       "      <td>7572</td>\n",
       "      <td>12.6%</td>\n",
       "    </tr>\n",
       "    <tr>\n",
       "      <th>education</th>\n",
       "      <td>6628</td>\n",
       "      <td>11.1%</td>\n",
       "    </tr>\n",
       "    <tr>\n",
       "      <th>ethnicity</th>\n",
       "      <td>5680</td>\n",
       "      <td>9.5%</td>\n",
       "    </tr>\n",
       "    <tr>\n",
       "      <th>smokes</th>\n",
       "      <td>5512</td>\n",
       "      <td>9.2%</td>\n",
       "    </tr>\n",
       "    <tr>\n",
       "      <th>essay0</th>\n",
       "      <td>5488</td>\n",
       "      <td>9.2%</td>\n",
       "    </tr>\n",
       "    <tr>\n",
       "      <th>body_type</th>\n",
       "      <td>5296</td>\n",
       "      <td>8.8%</td>\n",
       "    </tr>\n",
       "  </tbody>\n",
       "</table>\n",
       "</div>"
      ],
      "text/plain": [
       "           Count  Percent\n",
       "offspring  35561    59.3%\n",
       "diet       24395    40.7%\n",
       "religion   20226    33.7%\n",
       "pets       19921    33.2%\n",
       "essay8     19225    32.1%\n",
       "drugs      14080    23.5%\n",
       "essay6     13771    23.0%\n",
       "essay9     12603    21.0%\n",
       "essay7     12451    20.8%\n",
       "essay3     11476    19.1%\n",
       "sign       11056    18.4%\n",
       "essay5     10850    18.1%\n",
       "essay4     10537    17.6%\n",
       "essay2      9638    16.1%\n",
       "job         8198    13.7%\n",
       "essay1      7572    12.6%\n",
       "education   6628    11.1%\n",
       "ethnicity   5680     9.5%\n",
       "smokes      5512     9.2%\n",
       "essay0      5488     9.2%\n",
       "body_type   5296     8.8%"
      ]
     },
     "execution_count": 136,
     "metadata": {},
     "output_type": "execute_result"
    }
   ],
   "source": [
    "total_count = copy_data.isnull().count()\n",
    "count_na = copy_data.isnull().sum().sort_values(ascending = False)\n",
    "pct_na =(copy_data.isnull().sum()/total_count).sort_values(ascending = False)\n",
    "\n",
    "pd.options.display.float_format = '{:.1%}'.format\n",
    "\n",
    "missing_data = pd.concat([count_na, pct_na], axis=1, keys=['Count', 'Percent'])\n",
    "\n",
    "# Only show columns with more than 5% missing data\n",
    "missing_data[missing_data['Percent']>=0.05].head(21)"
   ]
  },
  {
   "cell_type": "raw",
   "id": "flush-manhattan",
   "metadata": {},
   "source": [
    "Plot which shows the percentage of null values in each column "
   ]
  },
  {
   "cell_type": "code",
   "execution_count": 137,
   "id": "stunning-enhancement",
   "metadata": {},
   "outputs": [
    {
     "data": {
      "image/png": "[encoded data removed]",
      "text/plain": [
       "<Figure size 864x360 with 1 Axes>"
      ]
     },
     "metadata": {
      "needs_background": "light"
     },
     "output_type": "display_data"
    }
   ],
   "source": [
    "plt.figure(figsize=(12, 5))\n",
    "copy_data.isnull().sum().plot(kind='bar')\n",
    "plt.xticks(rotation=50)\n",
    "plt.show()"
   ]
  },
  {
   "cell_type": "raw",
   "id": "actual-shade",
   "metadata": {},
   "source": [
    "Analyzing sex column"
   ]
  },
  {
   "cell_type": "code",
   "execution_count": 138,
   "id": "strong-serbia",
   "metadata": {},
   "outputs": [
    {
     "data": {
      "text/plain": [
       "m    35829\n",
       "f    24117\n",
       "Name: sex, dtype: int64"
      ]
     },
     "execution_count": 138,
     "metadata": {},
     "output_type": "execute_result"
    }
   ],
   "source": [
    "data.sex.value_counts()"
   ]
  },
  {
   "cell_type": "code",
   "execution_count": 139,
   "id": "minus-management",
   "metadata": {},
   "outputs": [
    {
     "data": {
      "image/png": "[encoded data removed]",
      "text/plain": [
       "<Figure size 360x504 with 1 Axes>"
      ]
     },
     "metadata": {
      "needs_background": "light"
     },
     "output_type": "display_data"
    }
   ],
   "source": [
    "plt.figure(figsize=(5,7))\n",
    "data.sex.value_counts().plot(kind='bar')\n",
    "plt.show()"
   ]
  },
  {
   "cell_type": "code",
   "execution_count": 140,
   "id": "athletic-individual",
   "metadata": {},
   "outputs": [
    {
     "data": {
      "text/plain": [
       "18"
      ]
     },
     "execution_count": 140,
     "metadata": {},
     "output_type": "execute_result"
    }
   ],
   "source": [
    "min(data.age)"
   ]
  },
  {
   "cell_type": "code",
   "execution_count": 141,
   "id": "settled-manufacturer",
   "metadata": {},
   "outputs": [],
   "source": [
    "data['18-25']=data['age'].apply(lambda x: 'Yes' if x <= 25 else 'No')"
   ]
  },
  {
   "cell_type": "code",
   "execution_count": 142,
   "id": "floating-occasion",
   "metadata": {},
   "outputs": [],
   "source": [
    "data['26-35']=data['age'].apply(lambda x: 'Yes' if x <= 35 and x > 25 else 'No')"
   ]
  },
  {
   "cell_type": "code",
   "execution_count": 143,
   "id": "dutch-monday",
   "metadata": {},
   "outputs": [],
   "source": [
    "data['36-45']=data['age'].apply(lambda x: 'Yes' if x <= 45 and x > 35 else 'No')"
   ]
  },
  {
   "cell_type": "code",
   "execution_count": 144,
   "id": "dominican-effort",
   "metadata": {},
   "outputs": [],
   "source": [
    "data['45-above']=data['age'].apply(lambda x: 'Yes' if x > 45 else 'No')"
   ]
  },
  {
   "cell_type": "code",
   "execution_count": 145,
   "id": "balanced-greeting",
   "metadata": {},
   "outputs": [
    {
     "data": {
      "text/plain": [
       "No     45492\n",
       "Yes    14454\n",
       "Name: 18-25, dtype: int64"
      ]
     },
     "execution_count": 145,
     "metadata": {},
     "output_type": "execute_result"
    }
   ],
   "source": [
    "data['18-25'].value_counts()"
   ]
  },
  {
   "cell_type": "code",
   "execution_count": 146,
   "id": "marked-isaac",
   "metadata": {},
   "outputs": [
    {
     "data": {
      "text/plain": [
       "No     31325\n",
       "Yes    28621\n",
       "Name: 26-35, dtype: int64"
      ]
     },
     "execution_count": 146,
     "metadata": {},
     "output_type": "execute_result"
    }
   ],
   "source": [
    "data['26-35'].value_counts()"
   ]
  },
  {
   "cell_type": "code",
   "execution_count": 147,
   "id": "advanced-prairie",
   "metadata": {},
   "outputs": [
    {
     "data": {
      "text/plain": [
       "No     49143\n",
       "Yes    10803\n",
       "Name: 36-45, dtype: int64"
      ]
     },
     "execution_count": 147,
     "metadata": {},
     "output_type": "execute_result"
    }
   ],
   "source": [
    "data['36-45'].value_counts()"
   ]
  },
  {
   "cell_type": "code",
   "execution_count": 148,
   "id": "determined-consequence",
   "metadata": {},
   "outputs": [
    {
     "data": {
      "text/plain": [
       "No     53878\n",
       "Yes     6068\n",
       "Name: 45-above, dtype: int64"
      ]
     },
     "execution_count": 148,
     "metadata": {},
     "output_type": "execute_result"
    }
   ],
   "source": [
    "data['45-above'].value_counts()"
   ]
  },
  {
   "cell_type": "code",
   "execution_count": 149,
   "id": "sealed-embassy",
   "metadata": {
    "scrolled": true
   },
   "outputs": [],
   "source": [
    "age1 = [x for x in data['18-25'] if x == 'Yes']"
   ]
  },
  {
   "cell_type": "code",
   "execution_count": 150,
   "id": "computational-jurisdiction",
   "metadata": {},
   "outputs": [],
   "source": [
    "age2 = [x for x in data['26-35'] if x == 'Yes']"
   ]
  },
  {
   "cell_type": "code",
   "execution_count": 151,
   "id": "excess-syria",
   "metadata": {},
   "outputs": [],
   "source": [
    "age3 = [x for x in data['36-45'] if x == 'Yes']"
   ]
  },
  {
   "cell_type": "code",
   "execution_count": 152,
   "id": "smart-suite",
   "metadata": {},
   "outputs": [],
   "source": [
    "age4 = [x for x in data['45-above'] if x == 'Yes']"
   ]
  },
  {
   "cell_type": "code",
   "execution_count": 153,
   "id": "secondary-freedom",
   "metadata": {},
   "outputs": [],
   "source": [
    "dataPlot = {'18-25':len(age1), '26-25':len(age2), '36-45':len(age3),  \n",
    "        '45-above':len(age4)} \n",
    "ageType = list(dataPlot.keys()) \n",
    "count = list(dataPlot.values())"
   ]
  },
  {
   "cell_type": "code",
   "execution_count": 154,
   "id": "electrical-mining",
   "metadata": {},
   "outputs": [
    {
     "data": {
      "image/png": "[encoded data removed]",
      "text/plain": [
       "<Figure size 1080x648 with 1 Axes>"
      ]
     },
     "metadata": {
      "needs_background": "light"
     },
     "output_type": "display_data"
    }
   ],
   "source": [
    "plt.figure(figsize=(15,9))\n",
    "plt.bar(ageType, count, width = 0.4)\n",
    "plt.show()"
   ]
  },
  {
   "cell_type": "code",
   "execution_count": 155,
   "id": "ongoing-sound",
   "metadata": {},
   "outputs": [
    {
     "data": {
      "text/plain": [
       "18"
      ]
     },
     "execution_count": 155,
     "metadata": {},
     "output_type": "execute_result"
    }
   ],
   "source": [
    "data.diet.nunique()"
   ]
  },
  {
   "cell_type": "code",
   "execution_count": 156,
   "id": "affiliated-suicide",
   "metadata": {},
   "outputs": [
    {
     "data": {
      "text/plain": [
       "Index(['age', 'body_type', 'diet', 'drinks', 'drugs', 'education', 'essay0',\n",
       "       'essay1', 'essay2', 'essay3', 'essay4', 'essay5', 'essay6', 'essay7',\n",
       "       'essay8', 'essay9', 'ethnicity', 'height', 'income', 'job',\n",
       "       'last_online', 'location', 'offspring', 'orientation', 'pets',\n",
       "       'religion', 'sex', 'sign', 'smokes', 'speaks', 'status', '18-25',\n",
       "       '26-35', '36-45', '45-above'],\n",
       "      dtype='object')"
      ]
     },
     "execution_count": 156,
     "metadata": {},
     "output_type": "execute_result"
    }
   ],
   "source": [
    "data.columns"
   ]
  },
  {
   "cell_type": "code",
   "execution_count": 157,
   "id": "foreign-vector",
   "metadata": {},
   "outputs": [
    {
     "data": {
      "text/plain": [
       "array(['socially', 'often', 'not at all', 'rarely', None, 'very often',\n",
       "       'desperately'], dtype=object)"
      ]
     },
     "execution_count": 157,
     "metadata": {},
     "output_type": "execute_result"
    }
   ],
   "source": [
    "data.drinks.unique()"
   ]
  },
  {
   "cell_type": "code",
   "execution_count": 171,
   "id": "extended-learning",
   "metadata": {},
   "outputs": [],
   "source": [
    "drinksAge = {'18-25':data['18-25'], '26-35':data['26-35'], '36-45':data['36-45'],  \n",
    "        '45-above':data['45-above']} \n",
    "  \n",
    "drinksAge = pd.DataFrame(drinksAge) "
   ]
  },
  {
   "cell_type": "code",
   "execution_count": 172,
   "id": "specified-appeal",
   "metadata": {},
   "outputs": [
    {
     "data": {
      "text/plain": [
       "pandas.core.frame.DataFrame"
      ]
     },
     "execution_count": 172,
     "metadata": {},
     "output_type": "execute_result"
    }
   ],
   "source": [
    "type(drinksAge)"
   ]
  },
  {
   "cell_type": "code",
   "execution_count": 173,
   "id": "cooperative-switzerland",
   "metadata": {},
   "outputs": [],
   "source": [
    "drinksAge['Socially'] = data['drinks'].apply(lambda x: 'Yes' if x == 'socially' else 'No')"
   ]
  },
  {
   "cell_type": "code",
   "execution_count": 174,
   "id": "acquired-architect",
   "metadata": {},
   "outputs": [],
   "source": [
    "drinksAge['often'] = data['drinks'].apply(lambda x: 'Yes' if x == 'often' else 'No')"
   ]
  },
  {
   "cell_type": "code",
   "execution_count": 175,
   "id": "diagnostic-large",
   "metadata": {},
   "outputs": [],
   "source": [
    "drinksAge['not at all'] = data['drinks'].apply(lambda x: 'Yes' if x == 'not at all' else 'No')"
   ]
  },
  {
   "cell_type": "code",
   "execution_count": 176,
   "id": "helpful-intervention",
   "metadata": {},
   "outputs": [],
   "source": [
    "drinksAge['rarely'] = data['drinks'].apply(lambda x: 'Yes' if x == 'rarely' else 'No')"
   ]
  },
  {
   "cell_type": "code",
   "execution_count": 177,
   "id": "progressive-fight",
   "metadata": {},
   "outputs": [],
   "source": [
    "drinksAge['None'] = data['drinks'].apply(lambda x: 'Yes' if x == 'None' else 'No')"
   ]
  },
  {
   "cell_type": "code",
   "execution_count": 178,
   "id": "desperate-mechanism",
   "metadata": {},
   "outputs": [],
   "source": [
    "drinksAge['very often'] = data['drinks'].apply(lambda x: 'Yes' if x == 'very often' else 'No')"
   ]
  },
  {
   "cell_type": "code",
   "execution_count": 179,
   "id": "rocky-titanium",
   "metadata": {},
   "outputs": [],
   "source": [
    "drinksAge['desperately'] = data['drinks'].apply(lambda x: 'Yes' if x == 'desperately' else 'No')"
   ]
  },
  {
   "cell_type": "code",
   "execution_count": 180,
   "id": "herbal-metallic",
   "metadata": {},
   "outputs": [
    {
     "data": {
      "text/html": [
       "<div>\n",
       "<style scoped>\n",
       "    .dataframe tbody tr th:only-of-type {\n",
       "        vertical-align: middle;\n",
       "    }\n",
       "\n",
       "    .dataframe tbody tr th {\n",
       "        vertical-align: top;\n",
       "    }\n",
       "\n",
       "    .dataframe thead th {\n",
       "        text-align: right;\n",
       "    }\n",
       "</style>\n",
       "<table border=\"1\" class=\"dataframe\">\n",
       "  <thead>\n",
       "    <tr style=\"text-align: right;\">\n",
       "      <th></th>\n",
       "      <th>18-25</th>\n",
       "      <th>26-35</th>\n",
       "      <th>36-45</th>\n",
       "      <th>45-above</th>\n",
       "      <th>Socially</th>\n",
       "      <th>often</th>\n",
       "      <th>not at all</th>\n",
       "      <th>rarely</th>\n",
       "      <th>None</th>\n",
       "      <th>very often</th>\n",
       "      <th>desperately</th>\n",
       "    </tr>\n",
       "  </thead>\n",
       "  <tbody>\n",
       "    <tr>\n",
       "      <th>0</th>\n",
       "      <td>Yes</td>\n",
       "      <td>No</td>\n",
       "      <td>No</td>\n",
       "      <td>No</td>\n",
       "      <td>Yes</td>\n",
       "      <td>No</td>\n",
       "      <td>No</td>\n",
       "      <td>No</td>\n",
       "      <td>No</td>\n",
       "      <td>No</td>\n",
       "      <td>No</td>\n",
       "    </tr>\n",
       "    <tr>\n",
       "      <th>1</th>\n",
       "      <td>No</td>\n",
       "      <td>Yes</td>\n",
       "      <td>No</td>\n",
       "      <td>No</td>\n",
       "      <td>No</td>\n",
       "      <td>Yes</td>\n",
       "      <td>No</td>\n",
       "      <td>No</td>\n",
       "      <td>No</td>\n",
       "      <td>No</td>\n",
       "      <td>No</td>\n",
       "    </tr>\n",
       "    <tr>\n",
       "      <th>2</th>\n",
       "      <td>No</td>\n",
       "      <td>No</td>\n",
       "      <td>Yes</td>\n",
       "      <td>No</td>\n",
       "      <td>Yes</td>\n",
       "      <td>No</td>\n",
       "      <td>No</td>\n",
       "      <td>No</td>\n",
       "      <td>No</td>\n",
       "      <td>No</td>\n",
       "      <td>No</td>\n",
       "    </tr>\n",
       "    <tr>\n",
       "      <th>3</th>\n",
       "      <td>Yes</td>\n",
       "      <td>No</td>\n",
       "      <td>No</td>\n",
       "      <td>No</td>\n",
       "      <td>Yes</td>\n",
       "      <td>No</td>\n",
       "      <td>No</td>\n",
       "      <td>No</td>\n",
       "      <td>No</td>\n",
       "      <td>No</td>\n",
       "      <td>No</td>\n",
       "    </tr>\n",
       "    <tr>\n",
       "      <th>4</th>\n",
       "      <td>No</td>\n",
       "      <td>Yes</td>\n",
       "      <td>No</td>\n",
       "      <td>No</td>\n",
       "      <td>Yes</td>\n",
       "      <td>No</td>\n",
       "      <td>No</td>\n",
       "      <td>No</td>\n",
       "      <td>No</td>\n",
       "      <td>No</td>\n",
       "      <td>No</td>\n",
       "    </tr>\n",
       "    <tr>\n",
       "      <th>...</th>\n",
       "      <td>...</td>\n",
       "      <td>...</td>\n",
       "      <td>...</td>\n",
       "      <td>...</td>\n",
       "      <td>...</td>\n",
       "      <td>...</td>\n",
       "      <td>...</td>\n",
       "      <td>...</td>\n",
       "      <td>...</td>\n",
       "      <td>...</td>\n",
       "      <td>...</td>\n",
       "    </tr>\n",
       "    <tr>\n",
       "      <th>59941</th>\n",
       "      <td>No</td>\n",
       "      <td>No</td>\n",
       "      <td>No</td>\n",
       "      <td>Yes</td>\n",
       "      <td>Yes</td>\n",
       "      <td>No</td>\n",
       "      <td>No</td>\n",
       "      <td>No</td>\n",
       "      <td>No</td>\n",
       "      <td>No</td>\n",
       "      <td>No</td>\n",
       "    </tr>\n",
       "    <tr>\n",
       "      <th>59942</th>\n",
       "      <td>Yes</td>\n",
       "      <td>No</td>\n",
       "      <td>No</td>\n",
       "      <td>No</td>\n",
       "      <td>No</td>\n",
       "      <td>Yes</td>\n",
       "      <td>No</td>\n",
       "      <td>No</td>\n",
       "      <td>No</td>\n",
       "      <td>No</td>\n",
       "      <td>No</td>\n",
       "    </tr>\n",
       "    <tr>\n",
       "      <th>59943</th>\n",
       "      <td>No</td>\n",
       "      <td>No</td>\n",
       "      <td>Yes</td>\n",
       "      <td>No</td>\n",
       "      <td>No</td>\n",
       "      <td>No</td>\n",
       "      <td>Yes</td>\n",
       "      <td>No</td>\n",
       "      <td>No</td>\n",
       "      <td>No</td>\n",
       "      <td>No</td>\n",
       "    </tr>\n",
       "    <tr>\n",
       "      <th>59944</th>\n",
       "      <td>No</td>\n",
       "      <td>Yes</td>\n",
       "      <td>No</td>\n",
       "      <td>No</td>\n",
       "      <td>Yes</td>\n",
       "      <td>No</td>\n",
       "      <td>No</td>\n",
       "      <td>No</td>\n",
       "      <td>No</td>\n",
       "      <td>No</td>\n",
       "      <td>No</td>\n",
       "    </tr>\n",
       "    <tr>\n",
       "      <th>59945</th>\n",
       "      <td>No</td>\n",
       "      <td>No</td>\n",
       "      <td>Yes</td>\n",
       "      <td>No</td>\n",
       "      <td>Yes</td>\n",
       "      <td>No</td>\n",
       "      <td>No</td>\n",
       "      <td>No</td>\n",
       "      <td>No</td>\n",
       "      <td>No</td>\n",
       "      <td>No</td>\n",
       "    </tr>\n",
       "  </tbody>\n",
       "</table>\n",
       "<p>59946 rows × 11 columns</p>\n",
       "</div>"
      ],
      "text/plain": [
       "      18-25 26-35 36-45 45-above Socially often not at all rarely None  \\\n",
       "0       Yes    No    No       No      Yes    No         No     No   No   \n",
       "1        No   Yes    No       No       No   Yes         No     No   No   \n",
       "2        No    No   Yes       No      Yes    No         No     No   No   \n",
       "3       Yes    No    No       No      Yes    No         No     No   No   \n",
       "4        No   Yes    No       No      Yes    No         No     No   No   \n",
       "...     ...   ...   ...      ...      ...   ...        ...    ...  ...   \n",
       "59941    No    No    No      Yes      Yes    No         No     No   No   \n",
       "59942   Yes    No    No       No       No   Yes         No     No   No   \n",
       "59943    No    No   Yes       No       No    No        Yes     No   No   \n",
       "59944    No   Yes    No       No      Yes    No         No     No   No   \n",
       "59945    No    No   Yes       No      Yes    No         No     No   No   \n",
       "\n",
       "      very often desperately  \n",
       "0             No          No  \n",
       "1             No          No  \n",
       "2             No          No  \n",
       "3             No          No  \n",
       "4             No          No  \n",
       "...          ...         ...  \n",
       "59941         No          No  \n",
       "59942         No          No  \n",
       "59943         No          No  \n",
       "59944         No          No  \n",
       "59945         No          No  \n",
       "\n",
       "[59946 rows x 11 columns]"
      ]
     },
     "execution_count": 180,
     "metadata": {},
     "output_type": "execute_result"
    }
   ],
   "source": [
    "drinksAge"
   ]
  },
  {
   "cell_type": "code",
   "execution_count": 191,
   "id": "studied-consensus",
   "metadata": {},
   "outputs": [],
   "source": [
    "sociallyYes = [x for x in drinksAge['Socially'] if x == 'Yes']\n",
    "sociallyNo = [x for x in drinksAge['Socially'] if x == 'No']\n",
    "oftenYes = [x for x in drinksAge['often'] if x == 'Yes']\n",
    "oftenNo = [x for x in drinksAge['often'] if x == 'No']\n",
    "notYes = [x for x in drinksAge['not at all'] if x == 'Yes']\n",
    "notNo = [x for x in drinksAge['not at all'] if x == 'No']\n",
    "rarelyYes = [x for x in drinksAge['rarely'] if x == 'Yes']\n",
    "rarelyNo = [x for x in drinksAge['rarely'] if x == 'No']\n",
    "NoneYes = [x for x in drinksAge['None'] if x == 'Yes']\n",
    "NoneNo = [x for x in drinksAge['None'] if x == 'No']\n",
    "veryoftenYes = [x for x in drinksAge['very often'] if x == 'Yes']\n",
    "veryoftenNo = [x for x in drinksAge['very often'] if x == 'No']\n",
    "desperatelyYes = [x for x in drinksAge['desperately'] if x == 'Yes']\n",
    "desperatelyNo = [x for x in drinksAge['desperately'] if x == 'No']"
   ]
  },
  {
   "cell_type": "code",
   "execution_count": 202,
   "id": "bizarre-manhattan",
   "metadata": {},
   "outputs": [
    {
     "data": {
      "text/plain": [
       "<Figure size 1080x1080 with 0 Axes>"
      ]
     },
     "metadata": {},
     "output_type": "display_data"
    },
    {
     "data": {
      "image/png": "[encoded data removed]",
      "text/plain": [
       "<Figure size 432x288 with 1 Axes>"
      ]
     },
     "metadata": {
      "needs_background": "light"
     },
     "output_type": "display_data"
    }
   ],
   "source": [
    "import matplotlib\n",
    "import matplotlib.pyplot as plt\n",
    "import numpy as np\n",
    "\n",
    "\n",
    "labels = ['socially', 'often', 'not at all', 'rarely', 'None', 'very often',\n",
    "       'desperately']\n",
    "yesGroup = [len(sociallyYes), len(oftenYes), len(notYes), len(rarelyYes), len(NoneYes), len(veryoftenYes), len(desperatelyYes)]\n",
    "noGroup =[len(sociallyNo), len(oftenNo), len(notNo), len(rarelyNo), len(NoneNo), len(veryoftenNo), len(desperatelyNo)]\n",
    "\n",
    "x = np.arange(len(labels))  # the label locations\n",
    "width = 0.35  # the width of the bars\n",
    "\n",
    "plt.figure(figsize=(15,15))\n",
    "fig, ax = plt.subplots()\n",
    "rects1 = ax.bar(x - width/2, yesGroup, width, label='Yes')\n",
    "rects2 = ax.bar(x + width/2, noGroup, width, label='No')\n",
    "\n",
    "# Add some text for labels, title and custom x-axis tick labels, etc.\n",
    "ax.set_ylabel('Scores')\n",
    "ax.set_title('Scores by group and gender')\n",
    "ax.set_xticks(x)\n",
    "ax.set_xticklabels(labels)\n",
    "ax.legend()\n",
    "\n",
    "\n",
    "def autolabel(rects):\n",
    "    \"\"\"Attach a text label above each bar in *rects*, displaying its height.\"\"\"\n",
    "    for rect in rects:\n",
    "        height = rect.get_height()\n",
    "        ax.annotate('{}'.format(height),\n",
    "                    xy=(rect.get_x() + rect.get_width() / 2, height),\n",
    "                    xytext=(0, 3),  # 3 points vertical offset\n",
    "                    textcoords=\"offset points\",\n",
    "                    ha='center', va='bottom')\n",
    "\n",
    "\n",
    "autolabel(rects1)\n",
    "autolabel(rects2)\n",
    "\n",
    "fig.tight_layout()\n",
    "\n",
    "plt.show()"
   ]
  },
  {
   "cell_type": "code",
   "execution_count": 193,
   "id": "embedded-logging",
   "metadata": {},
   "outputs": [],
   "source": [
    "labels = data.drinks.unique()\n"
   ]
  },
  {
   "cell_type": "code",
   "execution_count": 194,
   "id": "increasing-tulsa",
   "metadata": {},
   "outputs": [
    {
     "data": {
      "text/plain": [
       "array(['socially', 'often', 'not at all', 'rarely', None, 'very often',\n",
       "       'desperately'], dtype=object)"
      ]
     },
     "execution_count": 194,
     "metadata": {},
     "output_type": "execute_result"
    }
   ],
   "source": [
    "labels"
   ]
  },
  {
   "cell_type": "code",
   "execution_count": null,
   "id": "flexible-stream",
   "metadata": {},
   "outputs": [],
   "source": []
  }
 ],
 "metadata": {
  "kernelspec": {
   "display_name": "Python 3",
   "language": "python",
   "name": "python3"
  },
  "language_info": {
   "codemirror_mode": {
    "name": "ipython",
    "version": 3
   },
   "file_extension": ".py",
   "mimetype": "text/x-python",
   "name": "python",
   "nbconvert_exporter": "python",
   "pygments_lexer": "ipython3",
   "version": "3.8.7"
  }
 },
 "nbformat": 4,
 "nbformat_minor": 5
}
